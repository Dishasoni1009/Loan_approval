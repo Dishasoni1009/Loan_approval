{
 "cells": [
  {
   "cell_type": "markdown",
   "metadata": {},
   "source": [
    "LOAN APPROVAL PREDICTION"
   ]
  },
  {
   "cell_type": "markdown",
   "metadata": {},
   "source": [
    "\n",
    "Life cycle of Machine learning Project\n",
    "\n",
    "    Understanding the Problem Statement\n",
    "    Data Collection\n",
    "    Data Checks to perform\n",
    "    Exploratory data analysis\n",
    "    Data Pre-Processing\n",
    "    Model Training\n",
    "    Choose best model\n",
    "\n"
   ]
  },
  {
   "cell_type": "markdown",
   "metadata": {},
   "source": [
    "1. PROBLEM STATEMENT :\n",
    " \n",
    "Determining loan eligibility is a crucial task for banks, requiring the evaluation of multiple factors such as **Marital Status, Education, Applicant Income, and Credit History**. Manual assessment is time-consuming and prone to errors. This project aims to develop a **Machine Learning-based Loan Approval Prediction System** to automate and enhance the accuracy of loan approval decisions, reducing processing time and financial risk. \n",
    " "
   ]
  },
  {
   "cell_type": "markdown",
   "metadata": {},
   "source": [
    "2. DATA COLLECTION :\n"
   ]
  },
  {
   "cell_type": "code",
   "execution_count": 1,
   "metadata": {},
   "outputs": [],
   "source": [
    "import pandas as pd "
   ]
  },
  {
   "cell_type": "code",
   "execution_count": null,
   "metadata": {},
   "outputs": [],
   "source": []
  },
  {
   "cell_type": "code",
   "execution_count": null,
   "metadata": {},
   "outputs": [],
   "source": []
  }
 ],
 "metadata": {
  "kernelspec": {
   "display_name": "base",
   "language": "python",
   "name": "python3"
  },
  "language_info": {
   "codemirror_mode": {
    "name": "ipython",
    "version": 3
   },
   "file_extension": ".py",
   "mimetype": "text/x-python",
   "name": "python",
   "nbconvert_exporter": "python",
   "pygments_lexer": "ipython3",
   "version": "3.12.2"
  }
 },
 "nbformat": 4,
 "nbformat_minor": 2
}
